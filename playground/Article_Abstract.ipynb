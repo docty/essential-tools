{
  "nbformat": 4,
  "nbformat_minor": 0,
  "metadata": {
    "colab": {
      "provenance": []
    },
    "kernelspec": {
      "name": "python3",
      "display_name": "Python 3"
    },
    "language_info": {
      "name": "python"
    }
  },
  "cells": [
    {
      "cell_type": "code",
      "execution_count": null,
      "metadata": {
        "id": "4TAZKcOhpSPa"
      },
      "outputs": [],
      "source": [
        "%pip install llama-index llama-index-llms-mistralai llama-index-embeddings-fastembed -q"
      ]
    },
    {
      "cell_type": "code",
      "source": [
        "from llama_index.core import Settings\n",
        "from llama_index.llms.mistralai import MistralAI\n",
        "from llama_index.embeddings.fastembed import FastEmbedEmbedding\n",
        "import os\n",
        "\n",
        "os.environ[\"MISTRAL_API_KEY\"] = \"API KEY\"\n",
        "\n",
        "\n",
        "Settings.llm = MistralAI(model=\"mistral-small-latest\")\n",
        "Settings.embed_model = FastEmbedEmbedding(model_name=\"BAAI/bge-small-en\")\n",
        "Settings.chunk_size = 512\n",
        "Settings.chunk_overlap = 64"
      ],
      "metadata": {
        "id": "2jAfBr3sppgH"
      },
      "execution_count": null,
      "outputs": []
    },
    {
      "cell_type": "code",
      "source": [
        "from llama_index.core.prompts import PromptTemplate\n",
        "\n",
        "template1 = (\n",
        "    \"You are an expert academic assistant. Your task is to analyze a given abstract \"\n",
        "    \"from a research article and categorize its content into the following sections:\\n\\n\"\n",
        "    \"1. Background or Introduction – Briefly describe the context and importance of the study.\\n\"\n",
        "    \"2. Research Gap or Problem Statement – Identify what is missing in current knowledge that this study addresses.\\n\"\n",
        "    \"3. Objective or Purpose – Clearly state the main goal of the research.\\n\"\n",
        "    \"4. Methodology – Summarize the approach, methods, or data used in the study.\\n\"\n",
        "    \"5. Results or Findings – Present the key outcomes or discoveries made by the study.\\n\"\n",
        "    \"6. Conclusion or Implication – State the significance, impact, or application of the results.\\n\\n\"\n",
        "    \"If any of these categories are not explicitly stated in the abstract, make a best guess based on the content, or write 'Not Explicitly Stated'.\\n\\n\"\n",
        "    \"Abstract:\\n\"\n",
        "    \"{abstract}\\n\\n\"\n",
        "    \"Categorized Output:\\n\"\n",
        ")\n",
        "\n",
        "template2 = (\n",
        "    \"You are an expert academic assistant. Your task is to extract exact sentences or phrases from the given abstract and categorize them into various sections.\"\n",
        "    \"Do NOT summarize or rephrase anything. Only copy from the original abstract.\\n\"\n",
        "    \"\\n\\n\"\n",
        "    \"Pay special attention to identifying a Research Gap or Problem Statement. A research gap may be:\\n\"\n",
        "    \"- A difficulty, challenge, or limitation in solving a certain class of problems\\n\"\n",
        "    \"- An area where current methods are inefficient, inadequate, or lack precision\\n\"\n",
        "    \"Here are the categories you must extract:\\n\"\n",
        "    \"1. Background or Introduction – Extract the part of the abstract that introduces the context and importance of the study.\\n\"\n",
        "    \"2. Research Gap or Problem Statement – Identifies what is missing in current knowledge that the study addresses.\\n\"\n",
        "    \"3. Objective or Purpose – Extract the sentence(s) that clearly state the aim of the research.\\n\"\n",
        "    \"4. Methodology – Extract the part that describes how the research was done.\\n\"\n",
        "    \"5. Results or Findings – Extract the actual results or findings presented in the abstract.\\n\"\n",
        "    \"6. Conclusion or Implication – Extract the part that states the significance or impact of the findings.\\n\\n\"\n",
        "    \"**Important:** Do not paraphrase, summarize, or reword any part of the abstract. Use only direct sentences or phrases from the original abstract. \"\n",
        "    \"If a section is not present, write: Not Explicitly Stated.\\n\\n\"\n",
        "    \"Abstract:\\n\"\n",
        "    \"{abstract}\\n\\n\"\n",
        "    \"Categorized Output:\\n\"\n",
        ")\n",
        "\n",
        "abstract_summary = PromptTemplate(template1)\n",
        "abstract_no_summary = PromptTemplate(template2)"
      ],
      "metadata": {
        "id": "5zM7ZD77vbvg"
      },
      "execution_count": null,
      "outputs": []
    },
    {
      "cell_type": "code",
      "source": [
        "abstract_text = \"\"\"\n",
        "Nonlinear System of Fractional Partial Differential Equations (NSFPDEs) have received significant attention in various fields such as chemistry, physics and engineering due to their ability to model various phenomena. Recently, an effective analytic method known as the Fractional Power Series Method (FPSM) which employs the Mittag-Leffler function in one parameter, has been applied by researchers across the globe to obtain the exact solution of the NSFPDE in a functional space. In fact, the exact solution of the NSFPDE is consistent and reliable due to the involvement of the parameter $\\alpha$, in the Mittag-Leffler function. However, the Wright function which incorporates two parameters $\\alpha$ and $\\beta$ as well as an $n$ factorial have not been used to solve NSFPDEs. Undoubtedly, incorporating the Wright function in the FPSM provides a more generalized and continuum solution to the NSFPDE. Similarly the Raina function which generalizes the classical Mittag-Leffler function and the Kummer function has not been incorporated in the FPSM to obtain the exact solution to the NSFPDE. In this paper, two modified methods known as the Wright Fractional Power Series Method (WFPSM) via the Wright function and the Raina Fractional Power Series Method (RFPSM) via the Raina function are observed to obtain the exact solution to the NSFPDE in a functional space. Interestingly, when these two methods are applied independently to solve the NSFPDE, they yield the same infinite series in a more general form that converges to the exact solution of the NSFPDE in a functional space. Again, choosing $\\alpha=1$, $\\beta=1$ and $\\lambda=1$, both the WFPSM and the RFPSM provide the same exact integer solution to the NSPDE, making the newly introduced methods having exact general solution compared to the FPSM. The comparison analysis among the WFPSM, the RFPSM and the Adomian Decomposition Method (ADM), the Variational Iteration Method (VIM), the Double Laplace Decomposition Method (DLDM) prove that the WFPSM and the RFPSM converge faster to the exact solution as compared to the existing methods.\n",
        "\"\"\""
      ],
      "metadata": {
        "id": "QjvL_AR3qo7Y"
      },
      "execution_count": null,
      "outputs": []
    },
    {
      "cell_type": "code",
      "source": [
        "prompt_summary = abstract_summary.format(abstract=abstract_text)\n",
        "prompt_no_summary = abstract_no_summary.format(abstract=abstract_text)"
      ],
      "metadata": {
        "id": "HK1Glx_np-TR"
      },
      "execution_count": null,
      "outputs": []
    },
    {
      "cell_type": "code",
      "source": [
        "print(Settings.llm.complete(prompt_no_summary))"
      ],
      "metadata": {
        "id": "Ty27PXSSsZHx"
      },
      "execution_count": null,
      "outputs": []
    },
    {
      "cell_type": "code",
      "source": [
        "print(Settings.llm.complete(prompt_summary))"
      ],
      "metadata": {
        "id": "GyZUuoL8rH53"
      },
      "execution_count": null,
      "outputs": []
    },
    {
      "cell_type": "code",
      "source": [],
      "metadata": {
        "id": "7RTB9Vc8wpZ6"
      },
      "execution_count": null,
      "outputs": []
    }
  ]
}