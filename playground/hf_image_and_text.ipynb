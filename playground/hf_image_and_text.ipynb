{
  "nbformat": 4,
  "nbformat_minor": 0,
  "metadata": {
    "colab": {
      "provenance": []
    },
    "kernelspec": {
      "name": "python3",
      "display_name": "Python 3"
    },
    "language_info": {
      "name": "python"
    }
  },
  "cells": [
    {
      "cell_type": "code",
      "source": [
        "!pip install -U -q datasets"
      ],
      "metadata": {
        "id": "C9WUTmpF6jY-"
      },
      "execution_count": null,
      "outputs": []
    },
    {
      "cell_type": "code",
      "source": [
        "!git clone https://github.com/docty/essential_tools.git"
      ],
      "metadata": {
        "id": "1AJ2kdX96_iI"
      },
      "execution_count": null,
      "outputs": []
    },
    {
      "cell_type": "code",
      "source": [
        "from essential_tools.folderwithCSVToHFDataset import FolderWithCSVToHFDataset"
      ],
      "metadata": {
        "id": "TMJe-k_-7QOq"
      },
      "execution_count": null,
      "outputs": []
    },
    {
      "cell_type": "code",
      "source": [
        "builder = FolderWithCSVToHFDataset(\n",
        "    train_folder=\"/content/images\",\n",
        "    train_csv=\"/content/metadata.csv\",\n",
        "\n",
        ")\n",
        "\n",
        "dataset = builder.getDataset()\n",
        "print(dataset)\n"
      ],
      "metadata": {
        "id": "YKiIEVOyCnWr"
      },
      "execution_count": null,
      "outputs": []
    },
    {
      "cell_type": "code",
      "source": [
        "dataset['train'][0]['image']"
      ],
      "metadata": {
        "id": "1ywikR23dhG_"
      },
      "execution_count": null,
      "outputs": []
    },
    {
      "cell_type": "code",
      "source": [
        "#================================================\n",
        "#        DEPLOY DATASET TO HUGGINGFACE HUB\n",
        "#================================================\n",
        "\n",
        "from huggingface_hub import notebook_login\n",
        "\n",
        "notebook_login()\n",
        "\n",
        "dataset.push_to_hub(\"user_name/repo_name\")"
      ],
      "metadata": {
        "id": "slMbqhzL66OR"
      },
      "execution_count": null,
      "outputs": []
    },
    {
      "cell_type": "code",
      "source": [],
      "metadata": {
        "id": "jrlxkg3dDEkV"
      },
      "execution_count": null,
      "outputs": []
    }
  ]
}