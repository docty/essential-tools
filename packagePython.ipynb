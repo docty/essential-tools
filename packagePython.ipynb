{
 "cells": [
  {
   "cell_type": "code",
   "execution_count": null,
   "id": "4cba4be3",
   "metadata": {},
   "outputs": [],
   "source": [
    "#=========================================\n",
    "#        Package Trainer Source\n",
    "#=========================================\n"
   ]
  },
  {
   "cell_type": "code",
   "execution_count": null,
   "id": "86b5e864",
   "metadata": {},
   "outputs": [],
   "source": [
    "!mkdir trainer\n",
    "!touch trainer/task.py\n",
    "!touch trainer/__init__.py"
   ]
  },
  {
   "cell_type": "code",
   "execution_count": null,
   "id": "b1483ef8",
   "metadata": {},
   "outputs": [],
   "source": [
    "# Copy the application entry into the task.py"
   ]
  },
  {
   "cell_type": "code",
   "execution_count": null,
   "id": "286d03d0",
   "metadata": {},
   "outputs": [],
   "source": [
    "%%writefile setup.py\n",
    "from setuptools import find_packages\n",
    "from setuptools import setup\n",
    "\n",
    "setup(\n",
    "    name='trainer',\n",
    "    version='0.1',\n",
    "    packages=find_packages(),\n",
    "    include_package_data=True,\n",
    "    description='My training application.'\n",
    ")"
   ]
  },
  {
   "cell_type": "code",
   "execution_count": null,
   "id": "e1519f8e",
   "metadata": {},
   "outputs": [],
   "source": [
    "!python setup.py sdist --formats=gztar"
   ]
  }
 ],
 "metadata": {
  "language_info": {
   "name": "python"
  }
 },
 "nbformat": 4,
 "nbformat_minor": 5
}
